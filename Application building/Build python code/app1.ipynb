{
 "cells": [
  {
   "cell_type": "code",
   "execution_count": 1,
   "id": "5ee69c32",
   "metadata": {},
   "outputs": [],
   "source": [
    "import requests\n",
    "from tensorflow.keras.preprocessing import image\n",
    "from tensorflow.keras.models import load_model\n",
    "import numpy as np\n",
    "import pandas as pd\n",
    "import tensorflow as tf\n",
    "from flask import Flask, request, render_template, redirect, url_for\n",
    "import os\n",
    "from werkzeug.utils import secure_filename\n",
    "from tensorflow.python.keras.backend import set_session"
   ]
  },
  {
   "cell_type": "code",
   "execution_count": 2,
   "id": "f82789bf",
   "metadata": {},
   "outputs": [],
   "source": [
    "app = Flask(__name__)\n",
    "veg_model=load_model(r\"C:\\Users\\vijay\\OneDrive\\Desktop\\ibm\\models\\vegetables.h5\")\n",
    "fruit_model=load_model(r\"C:\\Users\\vijay\\OneDrive\\Desktop\\ibm\\models\\fruit.h5\")"
   ]
  },
  {
   "cell_type": "code",
   "execution_count": 3,
   "id": "94404702",
   "metadata": {},
   "outputs": [],
   "source": [
    "# home page\n",
    "@app.route('/')\n",
    "def home1():\n",
    "    return render_template(r'C:\\Users\\vijay\\OneDrive\\Desktop\\ibm\\Application building\\HTML pages\\home.html')"
   ]
  },
  {
   "cell_type": "code",
   "execution_count": 4,
   "id": "0fb52b5d",
   "metadata": {},
   "outputs": [],
   "source": [
    "# about page\n",
    "@app.route('/aboutus')\n",
    "def about1():\n",
    "    return render_template(r'C:\\Users\\vijay\\OneDrive\\Desktop\\ibm\\Application building\\HTML pages\\about.html')"
   ]
  },
  {
   "cell_type": "code",
   "execution_count": 5,
   "id": "d68f7f62",
   "metadata": {},
   "outputs": [],
   "source": [
    "# prediction page\n",
    "@app.route('/prediction')\n",
    "def prediction1():\n",
    "    return render_template(r'C:\\Users\\vijay\\OneDrive\\Desktop\\ibm\\Application building\\HTML pages\\predict.html')"
   ]
  },
  {
   "cell_type": "code",
   "execution_count": 6,
   "id": "ae1b4195",
   "metadata": {},
   "outputs": [],
   "source": [
    "\n",
    "@app.route('/predict',methods=['POST'])\n",
    "def predict2():\n",
    "    if request.method == 'POST': \n",
    "        f= request.files['image']\n",
    "        basepath = os.path.dirname(_file_)\n",
    "        file_path = os.path.join(basepath, 'uploads', secure_filename(f.filename))\n",
    "        f.save(file_path)\n",
    "        img = image.load_img(filepath, target_size=(128, 128))\n",
    "        x = image.img_to_array(img)\n",
    "        x = np.expand_dims(x, axis=0)\n",
    "        plant = request.form['plant']\n",
    "        print(plant)\n",
    "        if(plant == \"vegetables\"):\n",
    "            predictions = veg_model.predict_classes(x)\n",
    "            print(predictions)\n",
    "            df=pd.read_excel('precautions - veg.xlsx')\n",
    "            print(df.iloc[predictions[0]]['caution'])\n",
    "        else:\n",
    "            predictions = fruit_model.predict_classes(x)\n",
    "            df=pd.read_excel('precautions - fruits.xlsx')\n",
    "            print(df.iloc[predictions[0]]['caution'])\n",
    "        return df.iloc[predictions[0]]['caution']"
   ]
  },
  {
   "cell_type": "code",
   "execution_count": 7,
   "id": "be1b0865",
   "metadata": {},
   "outputs": [
    {
     "name": "stdout",
     "output_type": "stream",
     "text": [
      "Requirement already satisfied: Flask-Waitress in c:\\users\\vijay\\anaconda3\\lib\\site-packages (0.0.1)\n",
      "Requirement already satisfied: waitress in c:\\users\\vijay\\anaconda3\\lib\\site-packages (from Flask-Waitress) (2.1.2)\n",
      "Requirement already satisfied: flask>=0.9 in c:\\users\\vijay\\anaconda3\\lib\\site-packages (from Flask-Waitress) (1.1.2)\n",
      "Requirement already satisfied: paste>=1.7 in c:\\users\\vijay\\anaconda3\\lib\\site-packages (from Flask-Waitress) (3.5.2)\n",
      "Requirement already satisfied: click>=5.1 in c:\\users\\vijay\\anaconda3\\lib\\site-packages (from flask>=0.9->Flask-Waitress) (7.1.2)\n",
      "Requirement already satisfied: Jinja2>=2.10.1 in c:\\users\\vijay\\anaconda3\\lib\\site-packages (from flask>=0.9->Flask-Waitress) (2.11.3)\n",
      "Requirement already satisfied: Werkzeug>=0.15 in c:\\users\\vijay\\anaconda3\\lib\\site-packages (from flask>=0.9->Flask-Waitress) (1.0.1)\n",
      "Requirement already satisfied: itsdangerous>=0.24 in c:\\users\\vijay\\anaconda3\\lib\\site-packages (from flask>=0.9->Flask-Waitress) (1.1.0)\n",
      "Requirement already satisfied: MarkupSafe>=0.23 in c:\\users\\vijay\\anaconda3\\lib\\site-packages (from Jinja2>=2.10.1->flask>=0.9->Flask-Waitress) (1.1.1)\n",
      "Requirement already satisfied: setuptools in c:\\users\\vijay\\anaconda3\\lib\\site-packages (from paste>=1.7->Flask-Waitress) (52.0.0.post20210125)\n",
      "Requirement already satisfied: six>=1.4.0 in c:\\users\\vijay\\anaconda3\\lib\\site-packages (from paste>=1.7->Flask-Waitress) (1.15.0)\n"
     ]
    }
   ],
   "source": [
    "!pip install Flask-Waitress"
   ]
  },
  {
   "cell_type": "code",
   "execution_count": null,
   "id": "0983fbec",
   "metadata": {},
   "outputs": [
    {
     "name": "stdout",
     "output_type": "stream",
     "text": [
      " * Serving Flask app \"__main__\" (lazy loading)\n",
      " * Environment: production\n",
      "   WARNING: This is a development server. Do not use it in a production deployment.\n",
      "   Use a production WSGI server instead.\n",
      " * Debug mode: off\n"
     ]
    },
    {
     "name": "stderr",
     "output_type": "stream",
     "text": [
      " * Running on http://127.0.0.1:5000/ (Press CTRL+C to quit)\n"
     ]
    }
   ],
   "source": [
    "if __name__ == \"__main__\":\n",
    "    app.run(debug=False)"
   ]
  },
  {
   "cell_type": "code",
   "execution_count": null,
   "id": "28ebaf02",
   "metadata": {},
   "outputs": [],
   "source": []
  }
 ],
 "metadata": {
  "kernelspec": {
   "display_name": "Python 3",
   "language": "python",
   "name": "python3"
  },
  "language_info": {
   "codemirror_mode": {
    "name": "ipython",
    "version": 3
   },
   "file_extension": ".py",
   "mimetype": "text/x-python",
   "name": "python",
   "nbconvert_exporter": "python",
   "pygments_lexer": "ipython3",
   "version": "3.8.8"
  }
 },
 "nbformat": 4,
 "nbformat_minor": 5
}

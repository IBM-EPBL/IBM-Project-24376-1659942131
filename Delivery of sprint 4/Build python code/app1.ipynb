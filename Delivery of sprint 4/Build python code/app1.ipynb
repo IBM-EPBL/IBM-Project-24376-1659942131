{
 "cells": [
  {
   "cell_type": "code",
   "execution_count": null,
   "id": "5ee69c32",
   "metadata": {},
   "outputs": [],
   "source": [
    "import requests\n",
    "from tensorflow.keras.preprocessing import image\n",
    "from tensorflow.keras.models import load_model\n",
    "import numpy as np\n",
    "import pandas as pd\n",
    "import tensorflow as tf\n",
    "from flask import Flask, request, render_template, redirect, url_for\n",
    "import os\n",
    "os.environ['TF_CPP_MIN_LOG_LEVEL'] = '2'\n",
    "from werkzeug.utils import secure_filename\n",
    "from tensorflow.python.keras.backend import set_session"
   ]
  },
  {
   "cell_type": "code",
   "execution_count": 2,
   "id": "f82789bf",
   "metadata": {},
   "outputs": [],
   "source": [
    "app = Flask(__name__)\n",
    "veg_model=load_model(r\"C:\\Users\\vijay\\OneDrive\\Desktop\\ibm\\models\\vegetables.h5\")\n",
    "fruit_model=load_model(r\"C:\\Users\\vijay\\OneDrive\\Desktop\\ibm\\models\\fruit.h5\")"
   ]
  },
  {
   "cell_type": "code",
   "execution_count": 3,
   "id": "94404702",
   "metadata": {},
   "outputs": [],
   "source": [
    "# home page\n",
    "@app.route('/')\n",
    "def home1():\n",
    "    return render_template(r'C:\\Users\\vijay\\OneDrive\\Desktop\\ibm\\Application building\\HTML pages\\home.html')"
   ]
  },
  {
   "cell_type": "code",
   "execution_count": 4,
   "id": "0fb52b5d",
   "metadata": {},
   "outputs": [],
   "source": [
    "# about page\n",
    "@app.route('/aboutus')\n",
    "def about1():\n",
    "    return render_template(r'C:\\Users\\vijay\\OneDrive\\Desktop\\ibm\\Application building\\HTML pages\\about.html')"
   ]
  },
  {
   "cell_type": "code",
   "execution_count": 5,
   "id": "d68f7f62",
   "metadata": {},
   "outputs": [],
   "source": [
    "# prediction page\n",
    "@app.route('/prediction')\n",
    "def prediction1():\n",
    "    return render_template(r'C:\\Users\\vijay\\OneDrive\\Desktop\\ibm\\Application building\\HTML pages\\predict.html')"
   ]
  },
  {
   "cell_type": "code",
   "execution_count": 6,
   "id": "ae1b4195",
   "metadata": {},
   "outputs": [],
   "source": [
    "\n",
    "@app.route('/predict',methods=['POST'])\n",
    "def predict2():\n",
    "    if request.method == 'POST': \n",
    "        f= request.files['image']\n",
    "        basepath = os.path.dirname(_file_)\n",
    "        file_path = os.path.join(basepath, 'uploads', secure_filename(f.filename))\n",
    "        f.save(file_path)\n",
    "        img = image.load_img(filepath, target_size=(128, 128))\n",
    "        x = image.img_to_array(img)\n",
    "        x = np.expand_dims(x, axis=0)\n",
    "        plant = request.form['plant']\n",
    "        print(plant)\n",
    "        if(plant == \"vegetables\"):\n",
    "            predictions = veg_model.predict_classes(x)\n",
    "            print(predictions)\n",
    "            df=pd.read_excel('precautions - veg.xlsx')\n",
    "            print(df.iloc[predictions[0]]['caution'])\n",
    "        else:\n",
    "            predictions = fruit_model.predict_classes(x)\n",
    "            df=pd.read_excel('precautions - fruits.xlsx')\n",
    "            print(df.iloc[predictions[0]]['caution'])\n",
    "        return df.iloc[predictions[0]]['caution']"
   ]
  },
  {
   "cell_type": "code",
   "execution_count": null,
   "id": "0983fbec",
   "metadata": {},
   "outputs": [
    {
     "name": "stdout",
     "output_type": "stream",
     "text": [
      " * Serving Flask app \"__main__\" (lazy loading)\n",
      " * Environment: production\n",
      "   WARNING: This is a development server. Do not use it in a production deployment.\n",
      "   Use a production WSGI server instead.\n",
      " * Debug mode: off\n"
     ]
    },
    {
     "name": "stderr",
     "output_type": "stream",
     "text": [
      " * Running on http://127.0.0.1:5000/ (Press CTRL+C to quit)\n",
      "[2022-11-18 15:04:05,473] ERROR in app: Exception on / [GET]\n",
      "Traceback (most recent call last):\n",
      "  File \"C:\\Users\\vijay\\anaconda3\\lib\\site-packages\\flask\\app.py\", line 2447, in wsgi_app\n",
      "    response = self.full_dispatch_request()\n",
      "  File \"C:\\Users\\vijay\\anaconda3\\lib\\site-packages\\flask\\app.py\", line 1952, in full_dispatch_request\n",
      "    rv = self.handle_user_exception(e)\n",
      "  File \"C:\\Users\\vijay\\anaconda3\\lib\\site-packages\\flask\\app.py\", line 1821, in handle_user_exception\n",
      "    reraise(exc_type, exc_value, tb)\n",
      "  File \"C:\\Users\\vijay\\anaconda3\\lib\\site-packages\\flask\\_compat.py\", line 39, in reraise\n",
      "    raise value\n",
      "  File \"C:\\Users\\vijay\\anaconda3\\lib\\site-packages\\flask\\app.py\", line 1950, in full_dispatch_request\n",
      "    rv = self.dispatch_request()\n",
      "  File \"C:\\Users\\vijay\\anaconda3\\lib\\site-packages\\flask\\app.py\", line 1936, in dispatch_request\n",
      "    return self.view_functions[rule.endpoint](**req.view_args)\n",
      "  File \"<ipython-input-3-dd0281c3d360>\", line 4, in home1\n",
      "    return render_template(r'C:\\Users\\vijay\\OneDrive\\Desktop\\ibm\\Application building\\HTML pages\\home.html')\n",
      "  File \"C:\\Users\\vijay\\anaconda3\\lib\\site-packages\\flask\\templating.py\", line 138, in render_template\n",
      "    ctx.app.jinja_env.get_or_select_template(template_name_or_list),\n",
      "  File \"C:\\Users\\vijay\\anaconda3\\lib\\site-packages\\jinja2\\environment.py\", line 930, in get_or_select_template\n",
      "    return self.get_template(template_name_or_list, parent, globals)\n",
      "  File \"C:\\Users\\vijay\\anaconda3\\lib\\site-packages\\jinja2\\environment.py\", line 883, in get_template\n",
      "    return self._load_template(name, self.make_globals(globals))\n",
      "  File \"C:\\Users\\vijay\\anaconda3\\lib\\site-packages\\jinja2\\environment.py\", line 857, in _load_template\n",
      "    template = self.loader.load(self, name, globals)\n",
      "  File \"C:\\Users\\vijay\\anaconda3\\lib\\site-packages\\jinja2\\loaders.py\", line 115, in load\n",
      "    source, filename, uptodate = self.get_source(environment, name)\n",
      "  File \"C:\\Users\\vijay\\anaconda3\\lib\\site-packages\\flask\\templating.py\", line 60, in get_source\n",
      "    return self._get_source_fast(environment, template)\n",
      "  File \"C:\\Users\\vijay\\anaconda3\\lib\\site-packages\\flask\\templating.py\", line 89, in _get_source_fast\n",
      "    raise TemplateNotFound(template)\n",
      "jinja2.exceptions.TemplateNotFound: C:\\Users\\vijay\\OneDrive\\Desktop\\ibm\\Application building\\HTML pages\\home.html\n",
      "127.0.0.1 - - [18/Nov/2022 15:04:05] \"\u001b[35m\u001b[1mGET / HTTP/1.1\u001b[0m\" 500 -\n",
      "127.0.0.1 - - [18/Nov/2022 15:04:05] \"\u001b[33mGET /favicon.ico HTTP/1.1\u001b[0m\" 404 -\n"
     ]
    }
   ],
   "source": [
    "if __name__ == \"__main__\":\n",
    "    app.run(debug=False)"
   ]
  },
  {
   "cell_type": "code",
   "execution_count": null,
   "id": "28ebaf02",
   "metadata": {},
   "outputs": [],
   "source": []
  }
 ],
 "metadata": {
  "kernelspec": {
   "display_name": "Python 3",
   "language": "python",
   "name": "python3"
  },
  "language_info": {
   "codemirror_mode": {
    "name": "ipython",
    "version": 3
   },
   "file_extension": ".py",
   "mimetype": "text/x-python",
   "name": "python",
   "nbconvert_exporter": "python",
   "pygments_lexer": "ipython3",
   "version": "3.8.8"
  }
 },
 "nbformat": 4,
 "nbformat_minor": 5
}
